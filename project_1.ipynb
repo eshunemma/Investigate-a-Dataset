{
 "cells": [
  {
   "cell_type": "code",
   "execution_count": 2,
   "id": "9ac434cf",
   "metadata": {},
   "outputs": [],
   "source": [
    "import pandas as pd\n",
    "import numpy as py\n",
    "import matplotlib.pyplot as plt\n",
    "import seaborn as sns\n",
    "%matplotlib inline "
   ]
  },
  {
   "cell_type": "code",
   "execution_count": null,
   "id": "4acb6f7b",
   "metadata": {},
   "outputs": [],
   "source": []
  },
  {
   "cell_type": "code",
   "execution_count": 3,
   "id": "6ee85b16",
   "metadata": {},
   "outputs": [],
   "source": [
    "#I will load in the data, using (read_csv) function. Dataset\n",
    "#is downloaded from Kaggle here, in csv format('tmdb-movies.csv'). \n",
    "#And i will check for cleanliness, and then trim and clean the dataset for analysis.\n"
   ]
  },
  {
   "cell_type": "code",
   "execution_count": 4,
   "id": "61ce6e94",
   "metadata": {
    "scrolled": false
   },
   "outputs": [
    {
     "data": {
      "text/html": [
       "<div>\n",
       "<style scoped>\n",
       "    .dataframe tbody tr th:only-of-type {\n",
       "        vertical-align: middle;\n",
       "    }\n",
       "\n",
       "    .dataframe tbody tr th {\n",
       "        vertical-align: top;\n",
       "    }\n",
       "\n",
       "    .dataframe thead th {\n",
       "        text-align: right;\n",
       "    }\n",
       "</style>\n",
       "<table border=\"1\" class=\"dataframe\">\n",
       "  <thead>\n",
       "    <tr style=\"text-align: right;\">\n",
       "      <th></th>\n",
       "      <th>id</th>\n",
       "      <th>imdb_id</th>\n",
       "      <th>popularity</th>\n",
       "      <th>budget</th>\n",
       "      <th>revenue</th>\n",
       "      <th>original_title</th>\n",
       "      <th>cast</th>\n",
       "      <th>homepage</th>\n",
       "      <th>director</th>\n",
       "      <th>tagline</th>\n",
       "      <th>...</th>\n",
       "      <th>overview</th>\n",
       "      <th>runtime</th>\n",
       "      <th>genres</th>\n",
       "      <th>production_companies</th>\n",
       "      <th>release_date</th>\n",
       "      <th>vote_count</th>\n",
       "      <th>vote_average</th>\n",
       "      <th>release_year</th>\n",
       "      <th>budget_adj</th>\n",
       "      <th>revenue_adj</th>\n",
       "    </tr>\n",
       "  </thead>\n",
       "  <tbody>\n",
       "    <tr>\n",
       "      <th>0</th>\n",
       "      <td>135397</td>\n",
       "      <td>tt0369610</td>\n",
       "      <td>32.985763</td>\n",
       "      <td>150000000</td>\n",
       "      <td>1513528810</td>\n",
       "      <td>Jurassic World</td>\n",
       "      <td>Chris Pratt|Bryce Dallas Howard|Irrfan Khan|Vi...</td>\n",
       "      <td>http://www.jurassicworld.com/</td>\n",
       "      <td>Colin Trevorrow</td>\n",
       "      <td>The park is open.</td>\n",
       "      <td>...</td>\n",
       "      <td>Twenty-two years after the events of Jurassic ...</td>\n",
       "      <td>124</td>\n",
       "      <td>Action|Adventure|Science Fiction|Thriller</td>\n",
       "      <td>Universal Studios|Amblin Entertainment|Legenda...</td>\n",
       "      <td>6/9/15</td>\n",
       "      <td>5562</td>\n",
       "      <td>6.5</td>\n",
       "      <td>2015</td>\n",
       "      <td>1.379999e+08</td>\n",
       "      <td>1.392446e+09</td>\n",
       "    </tr>\n",
       "  </tbody>\n",
       "</table>\n",
       "<p>1 rows × 21 columns</p>\n",
       "</div>"
      ],
      "text/plain": [
       "       id    imdb_id  popularity     budget     revenue  original_title  \\\n",
       "0  135397  tt0369610   32.985763  150000000  1513528810  Jurassic World   \n",
       "\n",
       "                                                cast  \\\n",
       "0  Chris Pratt|Bryce Dallas Howard|Irrfan Khan|Vi...   \n",
       "\n",
       "                        homepage         director            tagline  ...  \\\n",
       "0  http://www.jurassicworld.com/  Colin Trevorrow  The park is open.  ...   \n",
       "\n",
       "                                            overview runtime  \\\n",
       "0  Twenty-two years after the events of Jurassic ...     124   \n",
       "\n",
       "                                      genres  \\\n",
       "0  Action|Adventure|Science Fiction|Thriller   \n",
       "\n",
       "                                production_companies release_date vote_count  \\\n",
       "0  Universal Studios|Amblin Entertainment|Legenda...       6/9/15       5562   \n",
       "\n",
       "   vote_average  release_year    budget_adj   revenue_adj  \n",
       "0           6.5          2015  1.379999e+08  1.392446e+09  \n",
       "\n",
       "[1 rows x 21 columns]"
      ]
     },
     "execution_count": 4,
     "metadata": {},
     "output_type": "execute_result"
    }
   ],
   "source": [
    "# Load data into a pandas dataframe and print out a few lines\n",
    "df = pd.read_csv('tmdb-movies.csv')\n",
    "df.head(1)"
   ]
  },
  {
   "cell_type": "code",
   "execution_count": 5,
   "id": "949e0893",
   "metadata": {},
   "outputs": [
    {
     "data": {
      "text/plain": [
       "(10866, 21)"
      ]
     },
     "execution_count": 5,
     "metadata": {},
     "output_type": "execute_result"
    }
   ],
   "source": [
    "# number of columns and rows \n",
    "df.shape"
   ]
  },
  {
   "cell_type": "code",
   "execution_count": 6,
   "id": "5fae18f3",
   "metadata": {},
   "outputs": [
    {
     "name": "stdout",
     "output_type": "stream",
     "text": [
      "<class 'pandas.core.frame.DataFrame'>\n",
      "RangeIndex: 10866 entries, 0 to 10865\n",
      "Data columns (total 21 columns):\n",
      " #   Column                Non-Null Count  Dtype  \n",
      "---  ------                --------------  -----  \n",
      " 0   id                    10866 non-null  int64  \n",
      " 1   imdb_id               10856 non-null  object \n",
      " 2   popularity            10866 non-null  float64\n",
      " 3   budget                10866 non-null  int64  \n",
      " 4   revenue               10866 non-null  int64  \n",
      " 5   original_title        10866 non-null  object \n",
      " 6   cast                  10790 non-null  object \n",
      " 7   homepage              2936 non-null   object \n",
      " 8   director              10822 non-null  object \n",
      " 9   tagline               8042 non-null   object \n",
      " 10  keywords              9373 non-null   object \n",
      " 11  overview              10862 non-null  object \n",
      " 12  runtime               10866 non-null  int64  \n",
      " 13  genres                10843 non-null  object \n",
      " 14  production_companies  9836 non-null   object \n",
      " 15  release_date          10866 non-null  object \n",
      " 16  vote_count            10866 non-null  int64  \n",
      " 17  vote_average          10866 non-null  float64\n",
      " 18  release_year          10866 non-null  int64  \n",
      " 19  budget_adj            10866 non-null  float64\n",
      " 20  revenue_adj           10866 non-null  float64\n",
      "dtypes: float64(4), int64(6), object(11)\n",
      "memory usage: 1.7+ MB\n"
     ]
    }
   ],
   "source": [
    "# Inspect data for errors or missing inputs \n",
    "df.info()"
   ]
  },
  {
   "cell_type": "code",
   "execution_count": 7,
   "id": "8ca3d9fc",
   "metadata": {},
   "outputs": [
    {
     "data": {
      "text/plain": [
       "id                         0\n",
       "imdb_id                   10\n",
       "popularity                 0\n",
       "budget                     0\n",
       "revenue                    0\n",
       "original_title             0\n",
       "cast                      76\n",
       "homepage                7930\n",
       "director                  44\n",
       "tagline                 2824\n",
       "keywords                1493\n",
       "overview                   4\n",
       "runtime                    0\n",
       "genres                    23\n",
       "production_companies    1030\n",
       "release_date               0\n",
       "vote_count                 0\n",
       "vote_average               0\n",
       "release_year               0\n",
       "budget_adj                 0\n",
       "revenue_adj                0\n",
       "dtype: int64"
      ]
     },
     "execution_count": 7,
     "metadata": {},
     "output_type": "execute_result"
    }
   ],
   "source": [
    "# summary and sum of null values in the dataset\n",
    "df.isnull().sum()"
   ]
  },
  {
   "cell_type": "markdown",
   "id": "9d8bfbf3",
   "metadata": {},
   "source": [
    "This dataset consists of 10866 rows and 21 columns with different data types with a sum of 13,434 null values which will be dropped from the dataset. Wrong inputs such as zero budget and revenue will also be droped from the data set. Another thing to keep in mind is that there are some columns that we don't need in our analysis and whose presence or absence has no bearing on our calculations, such as ['tagline', 'keywords', 'overview', 'homepage'] will also be droped from the dataset."
   ]
  },
  {
   "cell_type": "markdown",
   "id": "9046d7ee",
   "metadata": {},
   "source": [
    "### Data Cleaning"
   ]
  },
  {
   "cell_type": "code",
   "execution_count": 8,
   "id": "cd7e2918",
   "metadata": {},
   "outputs": [
    {
     "data": {
      "text/html": [
       "<div>\n",
       "<style scoped>\n",
       "    .dataframe tbody tr th:only-of-type {\n",
       "        vertical-align: middle;\n",
       "    }\n",
       "\n",
       "    .dataframe tbody tr th {\n",
       "        vertical-align: top;\n",
       "    }\n",
       "\n",
       "    .dataframe thead th {\n",
       "        text-align: right;\n",
       "    }\n",
       "</style>\n",
       "<table border=\"1\" class=\"dataframe\">\n",
       "  <thead>\n",
       "    <tr style=\"text-align: right;\">\n",
       "      <th></th>\n",
       "      <th>id</th>\n",
       "      <th>imdb_id</th>\n",
       "      <th>popularity</th>\n",
       "      <th>budget</th>\n",
       "      <th>revenue</th>\n",
       "      <th>original_title</th>\n",
       "      <th>cast</th>\n",
       "      <th>director</th>\n",
       "      <th>runtime</th>\n",
       "      <th>genres</th>\n",
       "      <th>production_companies</th>\n",
       "      <th>release_date</th>\n",
       "      <th>vote_count</th>\n",
       "      <th>vote_average</th>\n",
       "      <th>release_year</th>\n",
       "      <th>budget_adj</th>\n",
       "      <th>revenue_adj</th>\n",
       "    </tr>\n",
       "  </thead>\n",
       "  <tbody>\n",
       "    <tr>\n",
       "      <th>0</th>\n",
       "      <td>135397</td>\n",
       "      <td>tt0369610</td>\n",
       "      <td>32.985763</td>\n",
       "      <td>150000000</td>\n",
       "      <td>1513528810</td>\n",
       "      <td>Jurassic World</td>\n",
       "      <td>Chris Pratt|Bryce Dallas Howard|Irrfan Khan|Vi...</td>\n",
       "      <td>Colin Trevorrow</td>\n",
       "      <td>124</td>\n",
       "      <td>Action|Adventure|Science Fiction|Thriller</td>\n",
       "      <td>Universal Studios|Amblin Entertainment|Legenda...</td>\n",
       "      <td>6/9/15</td>\n",
       "      <td>5562</td>\n",
       "      <td>6.5</td>\n",
       "      <td>2015</td>\n",
       "      <td>1.379999e+08</td>\n",
       "      <td>1.392446e+09</td>\n",
       "    </tr>\n",
       "  </tbody>\n",
       "</table>\n",
       "</div>"
      ],
      "text/plain": [
       "       id    imdb_id  popularity     budget     revenue  original_title  \\\n",
       "0  135397  tt0369610   32.985763  150000000  1513528810  Jurassic World   \n",
       "\n",
       "                                                cast         director  \\\n",
       "0  Chris Pratt|Bryce Dallas Howard|Irrfan Khan|Vi...  Colin Trevorrow   \n",
       "\n",
       "   runtime                                     genres  \\\n",
       "0      124  Action|Adventure|Science Fiction|Thriller   \n",
       "\n",
       "                                production_companies release_date  vote_count  \\\n",
       "0  Universal Studios|Amblin Entertainment|Legenda...       6/9/15        5562   \n",
       "\n",
       "   vote_average  release_year    budget_adj   revenue_adj  \n",
       "0           6.5          2015  1.379999e+08  1.392446e+09  "
      ]
     },
     "execution_count": 8,
     "metadata": {},
     "output_type": "execute_result"
    }
   ],
   "source": [
    "# droping unneeded columns\n",
    "df.drop(['tagline', 'keywords', 'overview', 'homepage'], axis=1, inplace=True)\n",
    "# confirm changes\n",
    "# df.shape\n",
    "df.head(1)"
   ]
  },
  {
   "cell_type": "code",
   "execution_count": 9,
   "id": "c6ad9023",
   "metadata": {},
   "outputs": [
    {
     "data": {
      "text/plain": [
       "id                      0\n",
       "imdb_id                 0\n",
       "popularity              0\n",
       "budget                  0\n",
       "revenue                 0\n",
       "original_title          0\n",
       "cast                    0\n",
       "director                0\n",
       "runtime                 0\n",
       "genres                  0\n",
       "production_companies    0\n",
       "release_date            0\n",
       "vote_count              0\n",
       "vote_average            0\n",
       "release_year            0\n",
       "budget_adj              0\n",
       "revenue_adj             0\n",
       "dtype: int64"
      ]
     },
     "execution_count": 9,
     "metadata": {},
     "output_type": "execute_result"
    }
   ],
   "source": [
    "# Droping null values in rows \n",
    "df.dropna(inplace=True)\n",
    "# confirming update\n",
    "df.isnull().sum()"
   ]
  },
  {
   "cell_type": "code",
   "execution_count": 10,
   "id": "d0270cf7",
   "metadata": {},
   "outputs": [],
   "source": [
    "# droping rows with budget equal to zero\n",
    "df.drop(df.query('budget == 0').index, inplace=True)"
   ]
  },
  {
   "cell_type": "code",
   "execution_count": 11,
   "id": "c648ee08",
   "metadata": {},
   "outputs": [],
   "source": [
    "# droping rows with revenue equal to zero\n",
    "df.drop(df.query('revenue == 0').index, inplace=True)"
   ]
  },
  {
   "cell_type": "code",
   "execution_count": 12,
   "id": "d1d025b5",
   "metadata": {},
   "outputs": [
    {
     "data": {
      "text/plain": [
       "(3806, 17)"
      ]
     },
     "execution_count": 12,
     "metadata": {},
     "output_type": "execute_result"
    }
   ],
   "source": [
    "# checking size of data set to confirm\n",
    "df.shape"
   ]
  },
  {
   "cell_type": "code",
   "execution_count": 13,
   "id": "a1b74d33",
   "metadata": {},
   "outputs": [
    {
     "data": {
      "text/html": [
       "<div>\n",
       "<style scoped>\n",
       "    .dataframe tbody tr th:only-of-type {\n",
       "        vertical-align: middle;\n",
       "    }\n",
       "\n",
       "    .dataframe tbody tr th {\n",
       "        vertical-align: top;\n",
       "    }\n",
       "\n",
       "    .dataframe thead th {\n",
       "        text-align: right;\n",
       "    }\n",
       "</style>\n",
       "<table border=\"1\" class=\"dataframe\">\n",
       "  <thead>\n",
       "    <tr style=\"text-align: right;\">\n",
       "      <th></th>\n",
       "      <th>id</th>\n",
       "      <th>imdb_id</th>\n",
       "      <th>popularity</th>\n",
       "      <th>budget</th>\n",
       "      <th>revenue</th>\n",
       "      <th>cast</th>\n",
       "      <th>director</th>\n",
       "      <th>runtime</th>\n",
       "      <th>genres</th>\n",
       "      <th>production_companies</th>\n",
       "      <th>release_date</th>\n",
       "      <th>vote_count</th>\n",
       "      <th>vote_average</th>\n",
       "      <th>release_year</th>\n",
       "      <th>budget_adj</th>\n",
       "      <th>revenue_adj</th>\n",
       "    </tr>\n",
       "    <tr>\n",
       "      <th>original_title</th>\n",
       "      <th></th>\n",
       "      <th></th>\n",
       "      <th></th>\n",
       "      <th></th>\n",
       "      <th></th>\n",
       "      <th></th>\n",
       "      <th></th>\n",
       "      <th></th>\n",
       "      <th></th>\n",
       "      <th></th>\n",
       "      <th></th>\n",
       "      <th></th>\n",
       "      <th></th>\n",
       "      <th></th>\n",
       "      <th></th>\n",
       "      <th></th>\n",
       "    </tr>\n",
       "  </thead>\n",
       "  <tbody>\n",
       "    <tr>\n",
       "      <th>Jurassic World</th>\n",
       "      <td>135397</td>\n",
       "      <td>tt0369610</td>\n",
       "      <td>32.985763</td>\n",
       "      <td>150000000</td>\n",
       "      <td>1513528810</td>\n",
       "      <td>Chris Pratt|Bryce Dallas Howard|Irrfan Khan|Vi...</td>\n",
       "      <td>Colin Trevorrow</td>\n",
       "      <td>124</td>\n",
       "      <td>Action|Adventure|Science Fiction|Thriller</td>\n",
       "      <td>Universal Studios|Amblin Entertainment|Legenda...</td>\n",
       "      <td>6/9/15</td>\n",
       "      <td>5562</td>\n",
       "      <td>6.5</td>\n",
       "      <td>2015</td>\n",
       "      <td>1.379999e+08</td>\n",
       "      <td>1.392446e+09</td>\n",
       "    </tr>\n",
       "  </tbody>\n",
       "</table>\n",
       "</div>"
      ],
      "text/plain": [
       "                    id    imdb_id  popularity     budget     revenue  \\\n",
       "original_title                                                         \n",
       "Jurassic World  135397  tt0369610   32.985763  150000000  1513528810   \n",
       "\n",
       "                                                             cast  \\\n",
       "original_title                                                      \n",
       "Jurassic World  Chris Pratt|Bryce Dallas Howard|Irrfan Khan|Vi...   \n",
       "\n",
       "                       director  runtime  \\\n",
       "original_title                             \n",
       "Jurassic World  Colin Trevorrow      124   \n",
       "\n",
       "                                                   genres  \\\n",
       "original_title                                              \n",
       "Jurassic World  Action|Adventure|Science Fiction|Thriller   \n",
       "\n",
       "                                             production_companies  \\\n",
       "original_title                                                      \n",
       "Jurassic World  Universal Studios|Amblin Entertainment|Legenda...   \n",
       "\n",
       "               release_date  vote_count  vote_average  release_year  \\\n",
       "original_title                                                        \n",
       "Jurassic World       6/9/15        5562           6.5          2015   \n",
       "\n",
       "                  budget_adj   revenue_adj  \n",
       "original_title                              \n",
       "Jurassic World  1.379999e+08  1.392446e+09  "
      ]
     },
     "execution_count": 13,
     "metadata": {},
     "output_type": "execute_result"
    }
   ],
   "source": [
    "# indexing movie title \n",
    "df.set_index('original_title', inplace=True)\n",
    "df.head(1)"
   ]
  },
  {
   "cell_type": "code",
   "execution_count": 14,
   "id": "32d5acbd",
   "metadata": {},
   "outputs": [],
   "source": [
    "# searching for duplicates and drop them\n",
    "sum(df.duplicated())\n",
    "df.drop_duplicates(inplace=True)"
   ]
  },
  {
   "cell_type": "code",
   "execution_count": 15,
   "id": "6370a876",
   "metadata": {},
   "outputs": [],
   "source": [
    "# df.info()"
   ]
  },
  {
   "cell_type": "markdown",
   "id": "66cfbfcf",
   "metadata": {},
   "source": [
    "## Exploratory Data Analysis\n"
   ]
  },
  {
   "cell_type": "markdown",
   "id": "10eaa60c",
   "metadata": {},
   "source": [
    "  Research Quesion 1: How does the duration or Runtime of a movie affect it's average vote?\n",
    "  \n",
    "  Do people tend to love long hour movies compared to shorter ones? This study is to find out the answers to this question.\n",
    " "
   ]
  },
  {
   "cell_type": "code",
   "execution_count": 16,
   "id": "092c508f",
   "metadata": {},
   "outputs": [
    {
     "data": {
      "text/html": [
       "<div>\n",
       "<style scoped>\n",
       "    .dataframe tbody tr th:only-of-type {\n",
       "        vertical-align: middle;\n",
       "    }\n",
       "\n",
       "    .dataframe tbody tr th {\n",
       "        vertical-align: top;\n",
       "    }\n",
       "\n",
       "    .dataframe thead th {\n",
       "        text-align: right;\n",
       "    }\n",
       "</style>\n",
       "<table border=\"1\" class=\"dataframe\">\n",
       "  <thead>\n",
       "    <tr style=\"text-align: right;\">\n",
       "      <th></th>\n",
       "      <th>id</th>\n",
       "      <th>imdb_id</th>\n",
       "      <th>popularity</th>\n",
       "      <th>budget</th>\n",
       "      <th>revenue</th>\n",
       "      <th>cast</th>\n",
       "      <th>director</th>\n",
       "      <th>runtime</th>\n",
       "      <th>genres</th>\n",
       "      <th>production_companies</th>\n",
       "      <th>release_date</th>\n",
       "      <th>vote_count</th>\n",
       "      <th>vote_average</th>\n",
       "      <th>release_year</th>\n",
       "      <th>budget_adj</th>\n",
       "      <th>revenue_adj</th>\n",
       "      <th>runtime_bins</th>\n",
       "    </tr>\n",
       "    <tr>\n",
       "      <th>original_title</th>\n",
       "      <th></th>\n",
       "      <th></th>\n",
       "      <th></th>\n",
       "      <th></th>\n",
       "      <th></th>\n",
       "      <th></th>\n",
       "      <th></th>\n",
       "      <th></th>\n",
       "      <th></th>\n",
       "      <th></th>\n",
       "      <th></th>\n",
       "      <th></th>\n",
       "      <th></th>\n",
       "      <th></th>\n",
       "      <th></th>\n",
       "      <th></th>\n",
       "      <th></th>\n",
       "    </tr>\n",
       "  </thead>\n",
       "  <tbody>\n",
       "    <tr>\n",
       "      <th>Jurassic World</th>\n",
       "      <td>135397</td>\n",
       "      <td>tt0369610</td>\n",
       "      <td>32.985763</td>\n",
       "      <td>150000000</td>\n",
       "      <td>1513528810</td>\n",
       "      <td>Chris Pratt|Bryce Dallas Howard|Irrfan Khan|Vi...</td>\n",
       "      <td>Colin Trevorrow</td>\n",
       "      <td>124</td>\n",
       "      <td>Action|Adventure|Science Fiction|Thriller</td>\n",
       "      <td>Universal Studios|Amblin Entertainment|Legenda...</td>\n",
       "      <td>6/9/15</td>\n",
       "      <td>5562</td>\n",
       "      <td>6.5</td>\n",
       "      <td>2015</td>\n",
       "      <td>1.379999e+08</td>\n",
       "      <td>1.392446e+09</td>\n",
       "      <td>3hrs</td>\n",
       "    </tr>\n",
       "    <tr>\n",
       "      <th>Mad Max: Fury Road</th>\n",
       "      <td>76341</td>\n",
       "      <td>tt1392190</td>\n",
       "      <td>28.419936</td>\n",
       "      <td>150000000</td>\n",
       "      <td>378436354</td>\n",
       "      <td>Tom Hardy|Charlize Theron|Hugh Keays-Byrne|Nic...</td>\n",
       "      <td>George Miller</td>\n",
       "      <td>120</td>\n",
       "      <td>Action|Adventure|Science Fiction|Thriller</td>\n",
       "      <td>Village Roadshow Pictures|Kennedy Miller Produ...</td>\n",
       "      <td>5/13/15</td>\n",
       "      <td>6185</td>\n",
       "      <td>7.1</td>\n",
       "      <td>2015</td>\n",
       "      <td>1.379999e+08</td>\n",
       "      <td>3.481613e+08</td>\n",
       "      <td>2hrs</td>\n",
       "    </tr>\n",
       "    <tr>\n",
       "      <th>Insurgent</th>\n",
       "      <td>262500</td>\n",
       "      <td>tt2908446</td>\n",
       "      <td>13.112507</td>\n",
       "      <td>110000000</td>\n",
       "      <td>295238201</td>\n",
       "      <td>Shailene Woodley|Theo James|Kate Winslet|Ansel...</td>\n",
       "      <td>Robert Schwentke</td>\n",
       "      <td>119</td>\n",
       "      <td>Adventure|Science Fiction|Thriller</td>\n",
       "      <td>Summit Entertainment|Mandeville Films|Red Wago...</td>\n",
       "      <td>3/18/15</td>\n",
       "      <td>2480</td>\n",
       "      <td>6.3</td>\n",
       "      <td>2015</td>\n",
       "      <td>1.012000e+08</td>\n",
       "      <td>2.716190e+08</td>\n",
       "      <td>2hrs</td>\n",
       "    </tr>\n",
       "    <tr>\n",
       "      <th>Star Wars: The Force Awakens</th>\n",
       "      <td>140607</td>\n",
       "      <td>tt2488496</td>\n",
       "      <td>11.173104</td>\n",
       "      <td>200000000</td>\n",
       "      <td>2068178225</td>\n",
       "      <td>Harrison Ford|Mark Hamill|Carrie Fisher|Adam D...</td>\n",
       "      <td>J.J. Abrams</td>\n",
       "      <td>136</td>\n",
       "      <td>Action|Adventure|Science Fiction|Fantasy</td>\n",
       "      <td>Lucasfilm|Truenorth Productions|Bad Robot</td>\n",
       "      <td>12/15/15</td>\n",
       "      <td>5292</td>\n",
       "      <td>7.5</td>\n",
       "      <td>2015</td>\n",
       "      <td>1.839999e+08</td>\n",
       "      <td>1.902723e+09</td>\n",
       "      <td>3hrs</td>\n",
       "    </tr>\n",
       "    <tr>\n",
       "      <th>Furious 7</th>\n",
       "      <td>168259</td>\n",
       "      <td>tt2820852</td>\n",
       "      <td>9.335014</td>\n",
       "      <td>190000000</td>\n",
       "      <td>1506249360</td>\n",
       "      <td>Vin Diesel|Paul Walker|Jason Statham|Michelle ...</td>\n",
       "      <td>James Wan</td>\n",
       "      <td>137</td>\n",
       "      <td>Action|Crime|Thriller</td>\n",
       "      <td>Universal Pictures|Original Film|Media Rights ...</td>\n",
       "      <td>4/1/15</td>\n",
       "      <td>2947</td>\n",
       "      <td>7.3</td>\n",
       "      <td>2015</td>\n",
       "      <td>1.747999e+08</td>\n",
       "      <td>1.385749e+09</td>\n",
       "      <td>3hrs</td>\n",
       "    </tr>\n",
       "  </tbody>\n",
       "</table>\n",
       "</div>"
      ],
      "text/plain": [
       "                                  id    imdb_id  popularity     budget  \\\n",
       "original_title                                                           \n",
       "Jurassic World                135397  tt0369610   32.985763  150000000   \n",
       "Mad Max: Fury Road             76341  tt1392190   28.419936  150000000   \n",
       "Insurgent                     262500  tt2908446   13.112507  110000000   \n",
       "Star Wars: The Force Awakens  140607  tt2488496   11.173104  200000000   \n",
       "Furious 7                     168259  tt2820852    9.335014  190000000   \n",
       "\n",
       "                                 revenue  \\\n",
       "original_title                             \n",
       "Jurassic World                1513528810   \n",
       "Mad Max: Fury Road             378436354   \n",
       "Insurgent                      295238201   \n",
       "Star Wars: The Force Awakens  2068178225   \n",
       "Furious 7                     1506249360   \n",
       "\n",
       "                                                                           cast  \\\n",
       "original_title                                                                    \n",
       "Jurassic World                Chris Pratt|Bryce Dallas Howard|Irrfan Khan|Vi...   \n",
       "Mad Max: Fury Road            Tom Hardy|Charlize Theron|Hugh Keays-Byrne|Nic...   \n",
       "Insurgent                     Shailene Woodley|Theo James|Kate Winslet|Ansel...   \n",
       "Star Wars: The Force Awakens  Harrison Ford|Mark Hamill|Carrie Fisher|Adam D...   \n",
       "Furious 7                     Vin Diesel|Paul Walker|Jason Statham|Michelle ...   \n",
       "\n",
       "                                      director  runtime  \\\n",
       "original_title                                            \n",
       "Jurassic World                 Colin Trevorrow      124   \n",
       "Mad Max: Fury Road               George Miller      120   \n",
       "Insurgent                     Robert Schwentke      119   \n",
       "Star Wars: The Force Awakens       J.J. Abrams      136   \n",
       "Furious 7                            James Wan      137   \n",
       "\n",
       "                                                                 genres  \\\n",
       "original_title                                                            \n",
       "Jurassic World                Action|Adventure|Science Fiction|Thriller   \n",
       "Mad Max: Fury Road            Action|Adventure|Science Fiction|Thriller   \n",
       "Insurgent                            Adventure|Science Fiction|Thriller   \n",
       "Star Wars: The Force Awakens   Action|Adventure|Science Fiction|Fantasy   \n",
       "Furious 7                                         Action|Crime|Thriller   \n",
       "\n",
       "                                                           production_companies  \\\n",
       "original_title                                                                    \n",
       "Jurassic World                Universal Studios|Amblin Entertainment|Legenda...   \n",
       "Mad Max: Fury Road            Village Roadshow Pictures|Kennedy Miller Produ...   \n",
       "Insurgent                     Summit Entertainment|Mandeville Films|Red Wago...   \n",
       "Star Wars: The Force Awakens          Lucasfilm|Truenorth Productions|Bad Robot   \n",
       "Furious 7                     Universal Pictures|Original Film|Media Rights ...   \n",
       "\n",
       "                             release_date  vote_count  vote_average  \\\n",
       "original_title                                                        \n",
       "Jurassic World                     6/9/15        5562           6.5   \n",
       "Mad Max: Fury Road                5/13/15        6185           7.1   \n",
       "Insurgent                         3/18/15        2480           6.3   \n",
       "Star Wars: The Force Awakens     12/15/15        5292           7.5   \n",
       "Furious 7                          4/1/15        2947           7.3   \n",
       "\n",
       "                              release_year    budget_adj   revenue_adj  \\\n",
       "original_title                                                           \n",
       "Jurassic World                        2015  1.379999e+08  1.392446e+09   \n",
       "Mad Max: Fury Road                    2015  1.379999e+08  3.481613e+08   \n",
       "Insurgent                             2015  1.012000e+08  2.716190e+08   \n",
       "Star Wars: The Force Awakens          2015  1.839999e+08  1.902723e+09   \n",
       "Furious 7                             2015  1.747999e+08  1.385749e+09   \n",
       "\n",
       "                             runtime_bins  \n",
       "original_title                             \n",
       "Jurassic World                       3hrs  \n",
       "Mad Max: Fury Road                   2hrs  \n",
       "Insurgent                            2hrs  \n",
       "Star Wars: The Force Awakens         3hrs  \n",
       "Furious 7                            3hrs  "
      ]
     },
     "execution_count": 16,
     "metadata": {},
     "output_type": "execute_result"
    }
   ],
   "source": [
    "# adding an additional column to dataframe to group runtimes between time frames in hours\n",
    "df['runtime_bins'] = pd.cut(df['runtime'], bins=6, labels=('1hr', '2hrs', '3hrs', '4hrs', '5hrs', '6hrs'))\n",
    "df.head()"
   ]
  },
  {
   "cell_type": "code",
   "execution_count": 17,
   "id": "84890acf",
   "metadata": {},
   "outputs": [
    {
     "data": {
      "text/html": [
       "<div>\n",
       "<style scoped>\n",
       "    .dataframe tbody tr th:only-of-type {\n",
       "        vertical-align: middle;\n",
       "    }\n",
       "\n",
       "    .dataframe tbody tr th {\n",
       "        vertical-align: top;\n",
       "    }\n",
       "\n",
       "    .dataframe thead th {\n",
       "        text-align: right;\n",
       "    }\n",
       "</style>\n",
       "<table border=\"1\" class=\"dataframe\">\n",
       "  <thead>\n",
       "    <tr style=\"text-align: right;\">\n",
       "      <th></th>\n",
       "      <th>runtime_bins</th>\n",
       "      <th>vote_average</th>\n",
       "    </tr>\n",
       "    <tr>\n",
       "      <th>original_title</th>\n",
       "      <th></th>\n",
       "      <th></th>\n",
       "    </tr>\n",
       "  </thead>\n",
       "  <tbody>\n",
       "    <tr>\n",
       "      <th>Jurassic World</th>\n",
       "      <td>3hrs</td>\n",
       "      <td>6.5</td>\n",
       "    </tr>\n",
       "    <tr>\n",
       "      <th>Mad Max: Fury Road</th>\n",
       "      <td>2hrs</td>\n",
       "      <td>7.1</td>\n",
       "    </tr>\n",
       "    <tr>\n",
       "      <th>Insurgent</th>\n",
       "      <td>2hrs</td>\n",
       "      <td>6.3</td>\n",
       "    </tr>\n",
       "    <tr>\n",
       "      <th>Star Wars: The Force Awakens</th>\n",
       "      <td>3hrs</td>\n",
       "      <td>7.5</td>\n",
       "    </tr>\n",
       "    <tr>\n",
       "      <th>Furious 7</th>\n",
       "      <td>3hrs</td>\n",
       "      <td>7.3</td>\n",
       "    </tr>\n",
       "  </tbody>\n",
       "</table>\n",
       "</div>"
      ],
      "text/plain": [
       "                             runtime_bins  vote_average\n",
       "original_title                                         \n",
       "Jurassic World                       3hrs           6.5\n",
       "Mad Max: Fury Road                   2hrs           7.1\n",
       "Insurgent                            2hrs           6.3\n",
       "Star Wars: The Force Awakens         3hrs           7.5\n",
       "Furious 7                            3hrs           7.3"
      ]
     },
     "execution_count": 17,
     "metadata": {},
     "output_type": "execute_result"
    }
   ],
   "source": [
    "# extracting runtime_bins and vote_average\n",
    "df_hrs = df[['runtime_bins' ,'vote_average']]\n",
    "df_hrs.head()"
   ]
  },
  {
   "cell_type": "code",
   "execution_count": 18,
   "id": "e3b60c7c",
   "metadata": {},
   "outputs": [
    {
     "data": {
      "text/html": [
       "<div>\n",
       "<style scoped>\n",
       "    .dataframe tbody tr th:only-of-type {\n",
       "        vertical-align: middle;\n",
       "    }\n",
       "\n",
       "    .dataframe tbody tr th {\n",
       "        vertical-align: top;\n",
       "    }\n",
       "\n",
       "    .dataframe thead th {\n",
       "        text-align: right;\n",
       "    }\n",
       "</style>\n",
       "<table border=\"1\" class=\"dataframe\">\n",
       "  <thead>\n",
       "    <tr style=\"text-align: right;\">\n",
       "      <th></th>\n",
       "      <th>vote_average</th>\n",
       "    </tr>\n",
       "    <tr>\n",
       "      <th>runtime_bins</th>\n",
       "      <th></th>\n",
       "    </tr>\n",
       "  </thead>\n",
       "  <tbody>\n",
       "    <tr>\n",
       "      <th>1hr</th>\n",
       "      <td>6.550000</td>\n",
       "    </tr>\n",
       "    <tr>\n",
       "      <th>2hrs</th>\n",
       "      <td>6.047660</td>\n",
       "    </tr>\n",
       "    <tr>\n",
       "      <th>3hrs</th>\n",
       "      <td>6.618558</td>\n",
       "    </tr>\n",
       "    <tr>\n",
       "      <th>4hrs</th>\n",
       "      <td>7.064865</td>\n",
       "    </tr>\n",
       "    <tr>\n",
       "      <th>5hrs</th>\n",
       "      <td>6.300000</td>\n",
       "    </tr>\n",
       "    <tr>\n",
       "      <th>6hrs</th>\n",
       "      <td>6.200000</td>\n",
       "    </tr>\n",
       "  </tbody>\n",
       "</table>\n",
       "</div>"
      ],
      "text/plain": [
       "              vote_average\n",
       "runtime_bins              \n",
       "1hr               6.550000\n",
       "2hrs              6.047660\n",
       "3hrs              6.618558\n",
       "4hrs              7.064865\n",
       "5hrs              6.300000\n",
       "6hrs              6.200000"
      ]
     },
     "execution_count": 18,
     "metadata": {},
     "output_type": "execute_result"
    }
   ],
   "source": [
    "# Grouping by runtime_bins\n",
    "visual = df_hrs.groupby(['runtime_bins']).mean()\n",
    "visual"
   ]
  },
  {
   "cell_type": "code",
   "execution_count": 19,
   "id": "1fc2c913",
   "metadata": {},
   "outputs": [
    {
     "data": {
      "image/png": "[encoded data removed]",
      "text/plain": [
       "<Figure size 720x720 with 1 Axes>"
      ]
     },
     "metadata": {
      "needs_background": "light"
     },
     "output_type": "display_data"
    }
   ],
   "source": [
    "visual.plot(xlabel=\"Runtime(hrs)\", ylabel=\"Average Vote\",kind=\"bar\", figsize=(10, 10), title =\"Runtime - Vote Average\");"
   ]
  },
  {
   "cell_type": "markdown",
   "id": "93ae9ed3",
   "metadata": {},
   "source": [
    "The Graph above show a graphical representation of \"Vote Average aganinst Runtimes\". From the analysis I have noticed that movies in the timeframe of 3 - 4 hours tend to get more votes over the years."
   ]
  },
  {
   "cell_type": "markdown",
   "id": "25a9e0ea",
   "metadata": {},
   "source": [
    "## Question 2\n",
    "Runtime vs Revenue"
   ]
  },
  {
   "cell_type": "code",
   "execution_count": 20,
   "id": "a2352136",
   "metadata": {},
   "outputs": [],
   "source": [
    "# df_q2 = df[['runtime_bins', 'revenue']]\n",
    "# df_q2.head(1)"
   ]
  },
  {
   "cell_type": "code",
   "execution_count": 21,
   "id": "215fd98c",
   "metadata": {},
   "outputs": [],
   "source": [
    "# df_q2.shape"
   ]
  },
  {
   "cell_type": "code",
   "execution_count": 22,
   "id": "ae50b500",
   "metadata": {},
   "outputs": [],
   "source": [
    "# df_q2.describe"
   ]
  },
  {
   "cell_type": "code",
   "execution_count": 23,
   "id": "8aa93300",
   "metadata": {},
   "outputs": [],
   "source": [
    "# visual = df_q2.groupby(['runtime_bins']).sum()\n",
    "# visual"
   ]
  },
  {
   "cell_type": "code",
   "execution_count": 24,
   "id": "e9afe7b1",
   "metadata": {},
   "outputs": [],
   "source": [
    "# df_q2.hist();"
   ]
  },
  {
   "cell_type": "code",
   "execution_count": 25,
   "id": "1f6827e3",
   "metadata": {},
   "outputs": [],
   "source": [
    "# visual.plot(kind = 'bar');"
   ]
  },
  {
   "cell_type": "markdown",
   "id": "e51374df",
   "metadata": {},
   "source": [
    "# Runtime against popularity"
   ]
  },
  {
   "cell_type": "code",
   "execution_count": 26,
   "id": "f345b123",
   "metadata": {},
   "outputs": [],
   "source": [
    "df_q3 = df[['runtime_bins', 'popularity']]"
   ]
  },
  {
   "cell_type": "code",
   "execution_count": 27,
   "id": "e0cf37b0",
   "metadata": {},
   "outputs": [
    {
     "data": {
      "text/html": [
       "<div>\n",
       "<style scoped>\n",
       "    .dataframe tbody tr th:only-of-type {\n",
       "        vertical-align: middle;\n",
       "    }\n",
       "\n",
       "    .dataframe tbody tr th {\n",
       "        vertical-align: top;\n",
       "    }\n",
       "\n",
       "    .dataframe thead th {\n",
       "        text-align: right;\n",
       "    }\n",
       "</style>\n",
       "<table border=\"1\" class=\"dataframe\">\n",
       "  <thead>\n",
       "    <tr style=\"text-align: right;\">\n",
       "      <th></th>\n",
       "      <th>runtime_bins</th>\n",
       "      <th>popularity</th>\n",
       "    </tr>\n",
       "    <tr>\n",
       "      <th>original_title</th>\n",
       "      <th></th>\n",
       "      <th></th>\n",
       "    </tr>\n",
       "  </thead>\n",
       "  <tbody>\n",
       "    <tr>\n",
       "      <th>Jurassic World</th>\n",
       "      <td>3hrs</td>\n",
       "      <td>32.985763</td>\n",
       "    </tr>\n",
       "    <tr>\n",
       "      <th>Mad Max: Fury Road</th>\n",
       "      <td>2hrs</td>\n",
       "      <td>28.419936</td>\n",
       "    </tr>\n",
       "    <tr>\n",
       "      <th>Insurgent</th>\n",
       "      <td>2hrs</td>\n",
       "      <td>13.112507</td>\n",
       "    </tr>\n",
       "    <tr>\n",
       "      <th>Star Wars: The Force Awakens</th>\n",
       "      <td>3hrs</td>\n",
       "      <td>11.173104</td>\n",
       "    </tr>\n",
       "    <tr>\n",
       "      <th>Furious 7</th>\n",
       "      <td>3hrs</td>\n",
       "      <td>9.335014</td>\n",
       "    </tr>\n",
       "  </tbody>\n",
       "</table>\n",
       "</div>"
      ],
      "text/plain": [
       "                             runtime_bins  popularity\n",
       "original_title                                       \n",
       "Jurassic World                       3hrs   32.985763\n",
       "Mad Max: Fury Road                   2hrs   28.419936\n",
       "Insurgent                            2hrs   13.112507\n",
       "Star Wars: The Force Awakens         3hrs   11.173104\n",
       "Furious 7                            3hrs    9.335014"
      ]
     },
     "execution_count": 27,
     "metadata": {},
     "output_type": "execute_result"
    }
   ],
   "source": [
    "df_q3.head()"
   ]
  },
  {
   "cell_type": "code",
   "execution_count": 28,
   "id": "fdaf4e9b",
   "metadata": {},
   "outputs": [
    {
     "data": {
      "image/png": "[encoded data removed]",
      "text/plain": [
       "<Figure size 432x288 with 1 Axes>"
      ]
     },
     "metadata": {
      "needs_background": "light"
     },
     "output_type": "display_data"
    }
   ],
   "source": [
    "df_q3.popularity.hist();"
   ]
  },
  {
   "cell_type": "markdown",
   "id": "7529dfcc",
   "metadata": {},
   "source": [
    "## popularity"
   ]
  },
  {
   "cell_type": "code",
   "execution_count": 34,
   "id": "a2c23f89",
   "metadata": {},
   "outputs": [],
   "source": [
    "# df_pop = df[['genres', 'popularity', 'release_year']]\n",
    "# df_pop.head()"
   ]
  },
  {
   "cell_type": "code",
   "execution_count": 35,
   "id": "2ce38754",
   "metadata": {},
   "outputs": [],
   "source": [
    "# df_pop.max()"
   ]
  },
  {
   "cell_type": "code",
   "execution_count": 31,
   "id": "a4af807b",
   "metadata": {},
   "outputs": [],
   "source": [
    "# df_pop.groupby(['release_year', 'genres'], as_index=False).mean()"
   ]
  },
  {
   "cell_type": "code",
   "execution_count": 36,
   "id": "3ebfee21",
   "metadata": {},
   "outputs": [],
   "source": [
    "# df_pop.query('release_year >= 2005').groupby(['release_year', 'genres']).mean()"
   ]
  },
  {
   "cell_type": "code",
   "execution_count": 37,
   "id": "e3f35935",
   "metadata": {},
   "outputs": [],
   "source": [
    "# cols = ['original_title', 'vote_average']\n",
    "# vote_average_df = df.sort_values('vote_average', ascending=False)[cols].set_index('original_title')\n",
    "# top_5 = vote_average_df.head(5)\n",
    "# sns.barplot(data=top_5, x=top_5.index, y='vote_average');\n",
    "# plt.xticks(ha='left', rotation=-20, fontsize=15); plt.yticks(fontsize=15)\n",
    "# plt.title('Top 5 Highest Voted Average Movies', fontsize=15);"
   ]
  }
 ],
 "metadata": {
  "kernelspec": {
   "display_name": "Python 3 (ipykernel)",
   "language": "python",
   "name": "python3"
  },
  "language_info": {
   "codemirror_mode": {
    "name": "ipython",
    "version": 3
   },
   "file_extension": ".py",
   "mimetype": "text/x-python",
   "name": "python",
   "nbconvert_exporter": "python",
   "pygments_lexer": "ipython3",
   "version": "3.9.7"
  }
 },
 "nbformat": 4,
 "nbformat_minor": 5
}
